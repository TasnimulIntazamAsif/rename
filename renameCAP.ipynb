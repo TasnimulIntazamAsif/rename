{
 "cells": [
  {
   "cell_type": "code",
   "execution_count": 1,
   "id": "ef109b7e",
   "metadata": {},
   "outputs": [
    {
     "name": "stdout",
     "output_type": "stream",
     "text": [
      "No image files found to rename.\n"
     ]
    }
   ],
   "source": [
    "from pathlib import Path\n",
    "import uuid\n",
    "\n",
    "ALLOWED_EXTENSIONS = {\n",
    "    \".jpg\", \".jpeg\", \".png\", \".gif\", \".bmp\", \".tiff\", \".tif\", \".webp\", \".heic\", \".heif\"\n",
    "}\n",
    "\n",
    "\n",
    "def prompt_for_directory() -> Path:\n",
    "    folder_input = input(\"Enter the path to the folder containing images: \").strip().strip('\"').strip(\"'\")\n",
    "    folder_path = Path(folder_input).expanduser().resolve()\n",
    "    if not folder_path.exists():\n",
    "        raise FileNotFoundError(f\"Folder does not exist: {folder_path}\")\n",
    "    if not folder_path.is_dir():\n",
    "        raise NotADirectoryError(f\"Not a directory: {folder_path}\")\n",
    "    return folder_path\n",
    "\n",
    "\n",
    "def find_image_files(folder: Path):\n",
    "    image_paths = [p for p in folder.iterdir() if p.is_file() and p.suffix.lower() in ALLOWED_EXTENSIONS]\n",
    "    # Sort deterministically by filename\n",
    "    image_paths.sort(key=lambda p: p.name.lower())\n",
    "    return image_paths\n",
    "\n",
    "\n",
    "def rename_images_sequentially(folder: Path):\n",
    "    image_files = find_image_files(folder)\n",
    "    if not image_files:\n",
    "        print(\"No image files found to rename.\")\n",
    "        return\n",
    "\n",
    "    print(f\"Found {len(image_files)} image(s). Renaming to CAP_0..CAP_{len(image_files) - 1} while preserving extensions...\")\n",
    "\n",
    "    temp_files = []\n",
    "    # Stage 1: rename everything to unique temporary names to avoid collisions\n",
    "    for original_path in image_files:\n",
    "        temp_name = f\"{original_path.stem}__TMP_RENAME__{uuid.uuid4().hex}{original_path.suffix}\"\n",
    "        temp_path = original_path.with_name(temp_name)\n",
    "        original_path.rename(temp_path)\n",
    "        temp_files.append(temp_path)\n",
    "\n",
    "    # Stage 2: rename temps to final names\n",
    "    renamed_paths = []\n",
    "    try:\n",
    "        for index, temp_path in enumerate(temp_files):\n",
    "            final_name = f\"CAP_{index}{temp_path.suffix}\"\n",
    "            final_path = folder / final_name\n",
    "            temp_path.rename(final_path)\n",
    "            renamed_paths.append(final_path)\n",
    "    except Exception as exc:\n",
    "        print(f\"Error during renaming: {exc}. Attempting best-effort rollback...\")\n",
    "        # Best-effort rollback: try to remove the TMP marker from any remaining temp files\n",
    "        for path in folder.iterdir():\n",
    "            if path.is_file() and \"__TMP_RENAME__\" in path.name:\n",
    "                cleaned_name = path.name.replace(\"__TMP_RENAME__\", \"\")\n",
    "                try:\n",
    "                    path.rename(folder / cleaned_name)\n",
    "                except Exception:\n",
    "                    pass\n",
    "        raise\n",
    "\n",
    "    print(f\"Renamed {len(renamed_paths)} image(s) in: {folder}\")\n",
    "    for preview in renamed_paths[:10]:\n",
    "        print(f\"- {preview.name}\")\n",
    "    if len(renamed_paths) > 10:\n",
    "        print(\"...\")\n",
    "\n",
    "\n",
    "if __name__ == \"__main__\":\n",
    "    target = prompt_for_directory()\n",
    "    rename_images_sequentially(target)\n",
    "\n"
   ]
  },
  {
   "cell_type": "code",
   "execution_count": null,
   "id": "cd3d5e6f",
   "metadata": {},
   "outputs": [],
   "source": []
  }
 ],
 "metadata": {
  "kernelspec": {
   "display_name": "Python 3",
   "language": "python",
   "name": "python3"
  },
  "language_info": {
   "codemirror_mode": {
    "name": "ipython",
    "version": 3
   },
   "file_extension": ".py",
   "mimetype": "text/x-python",
   "name": "python",
   "nbconvert_exporter": "python",
   "pygments_lexer": "ipython3",
   "version": "3.12.7"
  }
 },
 "nbformat": 4,
 "nbformat_minor": 5
}
